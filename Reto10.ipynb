{
  "nbformat": 4,
  "nbformat_minor": 0,
  "metadata": {
    "colab": {
      "provenance": [],
      "authorship_tag": "ABX9TyNXkhNFCa4EE5EQCIpEnSIu",
      "include_colab_link": true
    },
    "kernelspec": {
      "name": "python3",
      "display_name": "Python 3"
    },
    "language_info": {
      "name": "python"
    }
  },
  "cells": [
    {
      "cell_type": "markdown",
      "metadata": {
        "id": "view-in-github",
        "colab_type": "text"
      },
      "source": [
        "<a href=\"https://colab.research.google.com/github/Steffyf317/Reto-10-Arreglos/blob/main/Reto10.ipynb\" target=\"_parent\"><img src=\"https://colab.research.google.com/assets/colab-badge.svg\" alt=\"Open In Colab\"/></a>"
      ]
    },
    {
      "cell_type": "code",
      "execution_count": 2,
      "metadata": {
        "colab": {
          "base_uri": "https://localhost:8080/"
        },
        "id": "cWTLErcsFGII",
        "outputId": "f5c6a117-e2ca-472e-ecb9-c47cbd64f6be"
      },
      "outputs": [
        {
          "output_type": "stream",
          "name": "stdout",
          "text": [
            "Ingrese la cantidad de elementos que desea que tenga el arreglo 10\n",
            "Ingrese el elemento #1 real para el arreglo 20.8\n",
            "Ingrese el elemento #2 real para el arreglo 3.44\n",
            "Ingrese el elemento #3 real para el arreglo 0.1\n",
            "Ingrese el elemento #4 real para el arreglo 0.5\n",
            "Ingrese el elemento #5 real para el arreglo 4.05\n",
            "Ingrese el elemento #6 real para el arreglo 22.15\n",
            "Ingrese el elemento #7 real para el arreglo 9.7\n",
            "Ingrese el elemento #8 real para el arreglo 66.55\n",
            "Ingrese el elemento #9 real para el arreglo 20.12\n",
            "Ingrese el elemento #10 real para el arreglo 3\n",
            "[20.8, 3.44, 0.1, 0.5, 4.05, 22.15, 9.7, 66.55, 20.12, 3.0]\n",
            "El promedio numérico del arreglo es 15.041\n"
          ]
        }
      ],
      "source": [
        "#Desarrollar un algoritmo que calcule el promedio de un arreglo de reales\n",
        "\n",
        "n = int(input(\"Ingrese la cantidad de elementos que desea que tenga el arreglo \")) #se ingresa por teclado la cantidad que el usuario quiera\n",
        "reales = [] #se crea una lista vacía\n",
        "\n",
        "for i in range (n): #para cada número dentro del rango de n:\n",
        "  a = float(input(\"Ingrese el elemento #\" +str(i+1)+ \" real para el arreglo \"))  #preguntar qué elementos irán dentro del arreglo\n",
        "  reales.append(a) #agregar dichos elementos en la lista creada anteriormente\n",
        "\n",
        "suma_reales = 0 # se parte desde 0 para ser iterada la variable dentro del ciclo for\n",
        "\n",
        "for i in range(n):\n",
        "  suma_reales +=reales[i] #se suman todos los elementos que pertenecen a 'reales'\n",
        "\n",
        "promedio:float = suma_reales /len(reales) #se calcula el promedio con la suma anterior y con la cantidad de elementos en el arreglo\n",
        "\n",
        "print(reales)\n",
        "print(\"El promedio numérico del arreglo es \" +str(promedio))"
      ]
    },
    {
      "cell_type": "code",
      "source": [
        "#Desarrollar un algoritmo que calcule el producto punto de dos arreglos de números enteros (reales) de igual tamaño.\n",
        "\n",
        "n = int(input(\"Ingrese la cantidad de elementos que desea que tengan los arreglos \")) #se ingresa por teclado la cantidad que el usuario quiera\n",
        "\n",
        "arreglo1= [] #se crea una lista vacía\n",
        "for i in range(n): #para cada número dentro del rango de n:\n",
        "  a = float(input(\"Ingrese el elemento entero #\" +str(i+1)+ \" para el primer arreglo \")) #preguntar qué elementos irán dentro del primer arreglo\n",
        "  arreglo1.append(a) #agregar los elementos al primer arreglo\n",
        "\n",
        "arreglo2=[] #lista vacía\n",
        "for i in range(n):\n",
        "  b = float(input(\"Ingrese el elemento entero #\" +str(i+1)+ \"  para el segundo arreglo \")) #preguntar los elementos que irán en el segundo arreglo\n",
        "  arreglo2.append(b) #agregar elementos al segundo arreglo\n",
        "\n",
        "producto_punto = 0 #variable a ser iterada dentro del ciclo for, se inicia en 0 para que no afecte el resultado\n",
        "for i in range(n):\n",
        "    producto_punto += arreglo1[i]*arreglo2[i] #se va recorriendo cada elemento y este a su vez se multiplica por otro elemento en el otro arreglo con la misma posición\n",
        "\n",
        "print(arreglo1)\n",
        "print(arreglo2)\n",
        "print(\"El producto punto entre los dos arreglos es \" +str(producto_punto))"
      ],
      "metadata": {
        "colab": {
          "base_uri": "https://localhost:8080/"
        },
        "id": "q9Czk9umFlZy",
        "outputId": "1316bd22-dfd0-4a22-93e2-ca5bde353b64"
      },
      "execution_count": 3,
      "outputs": [
        {
          "output_type": "stream",
          "name": "stdout",
          "text": [
            "Ingrese la cantidad de elementos que desea que tengan los arreglos 3\n",
            "Ingrese el elemento entero #1 para el primer arreglo 5\n",
            "Ingrese el elemento entero #2 para el primer arreglo 8\n",
            "Ingrese el elemento entero #3 para el primer arreglo 7\n",
            "Ingrese el elemento entero #1  para el segundo arreglo 7\n",
            "Ingrese el elemento entero #2  para el segundo arreglo 6\n",
            "Ingrese el elemento entero #3  para el segundo arreglo 10\n",
            "[5.0, 8.0, 7.0]\n",
            "[7.0, 6.0, 10.0]\n",
            "El producto punto entre los dos arreglos es 153.0\n"
          ]
        }
      ]
    },
    {
      "cell_type": "code",
      "source": [
        "# Hacer un algoritmo que deje al final de un arreglo de números todos los ceros que aparezcan en dicho arreglo.\n",
        "n = int(input(\"Ingrese la cantidad de elementos que desea que tenga el arreglo \")) #se ingresa por teclado la cantidad que el usuario quiera\n",
        "arreglo = [] #se crea una lista vacía\n",
        "\n",
        "for i in range (n): #para cada número dentro del rango de n:\n",
        "  a = float(input(\"Ingrese el elemento #\" +str(i+1)+ \" para el arreglo, algunos de estos elementos deben ser igual a 0 \"))  #preguntar qué elementos irán dentro del arreglo\n",
        "  arreglo.append(a) #agregar dichos elementos en la lista creada anteriormente\n",
        "\n",
        "numeros = [] #se crean dos listas vacías\n",
        "ceros = []\n",
        "\n",
        "for i in range(len(arreglo)): #evaluar cada elemento si es igual a 0 o no\n",
        "  if arreglo[i] != 0:\n",
        "    numeros.append(arreglo[i]) #agregar al arreglo de numeros diferentes de 0\n",
        "  else:\n",
        "    ceros.append(arreglo[i]) #agregar al arreglo de numeros iguales a 0\n",
        "\n",
        "arreglo = numeros + ceros #concatenar con los dos arreglos auxiliares\n",
        "print(arreglo)"
      ],
      "metadata": {
        "colab": {
          "base_uri": "https://localhost:8080/"
        },
        "id": "5gaPFDTPFnSq",
        "outputId": "9925bcd0-540f-4670-ba6b-acf62c12b4e3"
      },
      "execution_count": 12,
      "outputs": [
        {
          "output_type": "stream",
          "name": "stdout",
          "text": [
            "Ingrese la cantidad de elementos que desea que tenga el arreglo 5\n",
            "Ingrese el elemento #1 para el arreglo, algunos de estos elementos deben ser igual a 0 1.2\n",
            "Ingrese el elemento #2 para el arreglo, algunos de estos elementos deben ser igual a 0 50\n",
            "Ingrese el elemento #3 para el arreglo, algunos de estos elementos deben ser igual a 0 0\n",
            "Ingrese el elemento #4 para el arreglo, algunos de estos elementos deben ser igual a 0 44\n",
            "Ingrese el elemento #5 para el arreglo, algunos de estos elementos deben ser igual a 0 0\n",
            "[1.2, 50.0, 44.0, 0.0, 0.0]\n"
          ]
        }
      ]
    }
  ]
}